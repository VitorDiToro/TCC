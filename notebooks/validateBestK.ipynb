{
 "cells": [
  {
   "cell_type": "code",
   "execution_count": 1,
   "metadata": {},
   "outputs": [],
   "source": [
    "#!/usr/bin/python3\n",
    "# -*- coding: utf-8 -*-\n",
    "\n",
    "# __main__.py\n",
    "\n",
    "# Author      :  Vitor Rodrigues Di Toro\n",
    "# E-Mail      :  vitorrditoro@gmail.com\n",
    "# Date        :  19/05/2018\n",
    "# Last Update :  20/05/2018"
   ]
  },
  {
   "cell_type": "code",
   "execution_count": 2,
   "metadata": {},
   "outputs": [],
   "source": [
    "import sys\n",
    "sys.path.append('../')\n",
    "\n",
    "from sources.dataSetUtils import *\n",
    "from sources.knn import KNN\n",
    "from sources.distances import *\n",
    "import matplotlib.pyplot as plt\n",
    "import statistics\n"
   ]
  },
  {
   "cell_type": "code",
   "execution_count": 22,
   "metadata": {},
   "outputs": [],
   "source": [
    "def generateCSV(mean, stdev, k_first, k_last, distance_method):\n",
    "    import csv\n",
    "    import datetime\n",
    "    \n",
    "    date_now = datetime.datetime.now().strftime('%Y-%m-%d  %H.%M.%S')\n",
    "    dist_method_str = Distance.Type.get_str(distance_method)\n",
    "    \n",
    "    file_name = date_now + \" - \" + dist_method_str + \" - k[\" + str(k_first)+\"to\" + str(k_last)+ \"]_\" + str(times) +\\\n",
    "                \"Times.csv\"\n",
    "\n",
    "    with open(file_name, 'w') as myfile:\n",
    "        wr = csv.writer(myfile, lineterminator='\\n') # , quoting=csv.QUOTE_ALL)\n",
    "        wr.writerow([\"mean_accuracy\",\"stdev_accuracy\",\"mean_recall\",\"stdev_recall\",\n",
    "                     \"mean_sf1\",\"stdev_sf1\"])\n",
    "        \n",
    "        for row in zip(mean, stdev):\n",
    "            wr.writerow([float(row[0]), float(row[1])])"
   ]
  },
  {
   "cell_type": "code",
   "execution_count": 23,
   "metadata": {},
   "outputs": [],
   "source": [
    "def testK_and_saveCSV(k_first:int = 1, k_last:int = 350, times:int = 100,\\\n",
    "          distance_method:Distance.Type = Distance.Type.euclidean,\\\n",
    "          verbose:bool = False):\n",
    "    \n",
    "    if k_first <=0: k_first = 1\n",
    "    \n",
    "    ds = DataSet()\n",
    "    ds.fix_data_set('ionosphere', 'data')\n",
    "\n",
    "    data_set_name = '../dataset/ionosphere.csv'\n",
    "    \n",
    "    mean_accuracy = []     \n",
    "    stdev_accuracy = []\n",
    "    \n",
    "    print(\"Calculando: \", end='')\n",
    "    for k in range(k_first, k_last + 1):\n",
    "        values = []\n",
    "        \n",
    "        if k == k_last:\n",
    "            print(\"K\" + str(k))\n",
    "        else:\n",
    "            print(\"K\" + str(k) + \", \", end='')\n",
    "\n",
    "        for i in range(times):\n",
    "            training_data, test_data = DataSet.get_data(data_set_name, percent_to_training=60,\n",
    "                                                        randomize=True, verbose=False)\n",
    "            knn = KNN(training_data, test_data)\n",
    "            knn.fit(k=k, distance_method=distance_method)\n",
    "\n",
    "            values.append(knn.accuracy)\n",
    "            if verbose: print(\"accuracy: \" + str(knn.accuracy))\n",
    "        \n",
    "        mean_accuracy.append(sum(values) / len(values))\n",
    "        stdev_accuracy.append(statistics.stdev(values))\n",
    "\n",
    "    generateCSV(mean_accuracy, stdev_accuracy, k_first, k_last, distance_method)"
   ]
  },
  {
   "cell_type": "code",
   "execution_count": 25,
   "metadata": {},
   "outputs": [
    {
     "name": "stdout",
     "output_type": "stream",
     "text": [
      "Calculando: K1, K2, K3, K4, K5\n",
      "Calculando: K1, K2, K3, K4, K5\n",
      "Calculando: K1, K2, K3, K4, K5\n"
     ]
    }
   ],
   "source": [
    "#########################\n",
    "#    MAIN !!!!          #\n",
    "#########################\n",
    "\n",
    "import csv\n",
    "import datetime\n",
    "\n",
    "k_first = 1\n",
    "k_last = 5\n",
    "times = 2\n",
    "\n",
    "testK_and_saveCSV(k_first, k_last, times, Distance.Type.euclidean(), verbose=False)\n",
    "testK_and_saveCSV(k_first, k_last, times, Distance.Type.manhattan(), verbose=False)\n",
    "testK_and_saveCSV(k_first, k_last, times, Distance.Type.minkowski(), verbose=False)\n"
   ]
  },
  {
   "cell_type": "code",
   "execution_count": 124,
   "metadata": {},
   "outputs": [],
   "source": [
    "file_name = str(datetime.datetime.now()) + \" - k[\" + str(k_first)+\"to\" + str(k_last)+ \"]_\" + str(times) + \"Times.csv\""
   ]
  },
  {
   "cell_type": "code",
   "execution_count": 7,
   "metadata": {},
   "outputs": [
    {
     "data": {
      "text/plain": [
       "'Euclidean'"
      ]
     },
     "execution_count": 7,
     "metadata": {},
     "output_type": "execute_result"
    }
   ],
   "source": [
    "dist_method_str = Distance.Type.get_str(Distance.Type.euclidean())"
   ]
  },
  {
   "cell_type": "code",
   "execution_count": null,
   "metadata": {},
   "outputs": [],
   "source": []
  },
  {
   "cell_type": "code",
   "execution_count": null,
   "metadata": {},
   "outputs": [],
   "source": [
    "    "
   ]
  },
  {
   "cell_type": "code",
   "execution_count": null,
   "metadata": {},
   "outputs": [],
   "source": []
  }
 ],
 "metadata": {
  "kernelspec": {
   "display_name": "Python 3",
   "language": "python",
   "name": "python3"
  },
  "language_info": {
   "codemirror_mode": {
    "name": "ipython",
    "version": 3
   },
   "file_extension": ".py",
   "mimetype": "text/x-python",
   "name": "python",
   "nbconvert_exporter": "python",
   "pygments_lexer": "ipython3",
   "version": "3.6.4"
  }
 },
 "nbformat": 4,
 "nbformat_minor": 2
}
