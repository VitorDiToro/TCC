{
 "cells": [
  {
   "cell_type": "code",
   "execution_count": 13,
   "metadata": {},
   "outputs": [],
   "source": [
    "import sys\n",
    "sys.path.append('../')\n",
    "\n",
    "import csv\n",
    "from sources.distances import DistanceCalculator as dist\n",
    "from random import shuffle\n",
    "\n",
    "euclidean = 1\n",
    "manhattan = 2\n",
    "minkowski = 3"
   ]
  },
  {
   "cell_type": "code",
   "execution_count": 14,
   "metadata": {},
   "outputs": [],
   "source": [
    "def fixDataSet():\n",
    "    with open('../dataset/ionosphere.data','r') as File:\n",
    "        reader = csv.reader(File, delimiter=',', quotechar=',',\n",
    "                            quoting=csv.QUOTE_MINIMAL)\n",
    "\n",
    "        l_reader = list(reader)\n",
    "\n",
    "    mycsv_list = []    \n",
    "    for i in range(len(l_reader)):\n",
    "        if not(l_reader[i] in l_reader[i+1:len(l_reader)]):\n",
    "            mycsv_list.append(l_reader[i])\n",
    "\n",
    "    with open(\"ionosphere.csv.teste\", \"w\") as File:\n",
    "        writer = csv.writer(File, lineterminator='\\n')\n",
    "        writer.writerows(mycsv_list)\n",
    "        "
   ]
  },
  {
   "cell_type": "code",
   "execution_count": 15,
   "metadata": {},
   "outputs": [],
   "source": [
    "def num(s):\n",
    "    try:\n",
    "        return float(s)\n",
    "    except ValueError:\n",
    "        return s\n",
    "    "
   ]
  },
  {
   "cell_type": "code",
   "execution_count": 16,
   "metadata": {},
   "outputs": [],
   "source": [
    "def getData(datasetName = 'mycsv.csv', percentToTraining = 60, randomize = True, verbose = True):\n",
    "    \n",
    "    count = 0\n",
    "    group_g = 0\n",
    "    test_data = []\n",
    "    training_data = []\n",
    "    \n",
    "    \n",
    "    with open(datasetName,'r') as File:\n",
    "        reader = csv.reader(File, delimiter=',', quotechar=',',\n",
    "                            quoting=csv.QUOTE_MINIMAL)\n",
    "\n",
    "        l_reader = list(reader)\n",
    "        limit = int(len(l_reader) * (percentToTraining/100))\n",
    "        \n",
    "        if randomize:\n",
    "            shuffle(l_reader)\n",
    "\n",
    "        for row in l_reader:\n",
    "\n",
    "            if row[-1] == \"g\" :\n",
    "                group_g += 1\n",
    "\n",
    "            if count < limit:\n",
    "                training_data.append([num(i) for i in row])\n",
    "            else:\n",
    "                test_data.append([num(i) for i in row])\n",
    "\n",
    "            count += 1\n",
    "            \n",
    "    if verbose:\n",
    "        print(\"Total de amostras: %d:\" %len(l_reader))\n",
    "        print(\"    - %d amostra do tipo \\\"Good\\\"\" % group_g)\n",
    "        print(\"    - %d amostra do tipo \\\"Bad\\\"\" % (len(l_reader) - group_g))\n",
    "        print(\"\")\n",
    "        print(\"%d %% das amostras separadas para treino.\" %percentToTraining)\n",
    "        print(\"    - %d amostras para treino\" % (len(training_data)))\n",
    "        print(\"    - %d amostras para teste\" % (len(test_data)))\n",
    "            \n",
    "    return training_data, test_data\n"
   ]
  },
  {
   "cell_type": "code",
   "execution_count": 20,
   "metadata": {},
   "outputs": [],
   "source": [
    "def knn(training, test, k, distanceMethod = euclidean, distanceOrder = 0.5 ):\n",
    "    \n",
    "    result = []\n",
    "    \n",
    "    for i in range(len(test)):\n",
    "        distances = {}\n",
    "        \n",
    "        for j in range(len(training)):\n",
    "            if distanceMethod == euclidean:\n",
    "                distances[j] = dist.euclidean_distance(test[i], training[j])\n",
    "            elif distanceMethod == manhattan:\n",
    "                distances[j] = dist.manhattan_distance(test[i], training[j])\n",
    "            elif distanceMethod == minkowski:\n",
    "                distances[j] = dist.minkowski_distance(test[i], training[j], distanceOrder)\n",
    "                \n",
    "        k_neighbors = sorted(distances, key=distances.get)[:k]\n",
    "        \n",
    "        g_count, b_count = 0, 0\n",
    "        \n",
    "        for index in k_neighbors:\n",
    "            if training[index][-1] == 'g':\n",
    "                g_count += 1\n",
    "            else:\n",
    "                b_count += 1\n",
    "        \n",
    "        if g_count > b_count:\n",
    "            result.append('g')\n",
    "        else:\n",
    "            result.append('b')\n",
    "            \n",
    "        \n",
    "    acertos = 0\n",
    "    for i in range(len(test)):\n",
    "        #print(\"Obtido : \" + result[i])\n",
    "        #print(\"Correto: \" + test[i][-1])\n",
    "        \n",
    "        if(result[i] == test[i][-1]):\n",
    "            acertos += 1\n",
    "        \n",
    "    print(\"Porcentagem de acertos: %.4f %%\" % (100*acertos/len(test)))\n",
    "    "
   ]
  },
  {
   "cell_type": "code",
   "execution_count": 27,
   "metadata": {},
   "outputs": [],
   "source": [
    "fixDataSet()\n",
    "training_data, test_data = getData('../dataset/ionosphere.csv',60,randomize=True,verbose=False,)"
   ]
  },
  {
   "cell_type": "code",
   "execution_count": 35,
   "metadata": {},
   "outputs": [
    {
     "name": "stdout",
     "output_type": "stream",
     "text": [
      "\n",
      "Euclidean distance:\n",
      "Porcentagem de acertos: 88.5714 %\n",
      "\n",
      "Manhattan distance:\n",
      "Porcentagem de acertos: 89.2857 %\n",
      "\n",
      "Minkowski distance:\n",
      "Porcentagem de acertos: 94.2857 %\n"
     ]
    }
   ],
   "source": [
    "print(\"\\nEuclidean distance:\")\n",
    "knn(training_data, test_data, k=13, distanceMethod=euclidean)\n",
    "\n",
    "print(\"\\nManhattan distance:\")\n",
    "knn(training_data, test_data, k=13, distanceMethod=manhattan)\n",
    "\n",
    "print(\"\\nMinkowski distance:\")\n",
    "knn(training_data, test_data, k=13, distanceMethod=minkowski, distanceOrder = 0.5)"
   ]
  },
  {
   "cell_type": "code",
   "execution_count": null,
   "metadata": {},
   "outputs": [],
   "source": []
  },
  {
   "cell_type": "code",
   "execution_count": 12,
   "metadata": {},
   "outputs": [],
   "source": [
    "#\n",
    "# Busca e exibe duplicatas em um arquivo csv\n",
    "#\n",
    "\n",
    "with open('../dataset/ionosphere.csv','r') as File:\n",
    "    reader = csv.reader(File, delimiter=',', quotechar=',',\n",
    "                        quoting=csv.QUOTE_MINIMAL)\n",
    "\n",
    "    l_reader = list(reader)\n",
    "\n",
    "mycsv_list = []    \n",
    "for i in range(len(l_reader)):\n",
    "    if l_reader[i] in l_reader[i+1:len(l_reader)]:\n",
    "        print(l_reader[i])"
   ]
  },
  {
   "cell_type": "code",
   "execution_count": null,
   "metadata": {},
   "outputs": [],
   "source": []
  }
 ],
 "metadata": {
  "kernelspec": {
   "display_name": "Python 3",
   "language": "python",
   "name": "python3"
  },
  "language_info": {
   "codemirror_mode": {
    "name": "ipython",
    "version": 3
   },
   "file_extension": ".py",
   "mimetype": "text/x-python",
   "name": "python",
   "nbconvert_exporter": "python",
   "pygments_lexer": "ipython3",
   "version": "3.6.4"
  }
 },
 "nbformat": 4,
 "nbformat_minor": 2
}
